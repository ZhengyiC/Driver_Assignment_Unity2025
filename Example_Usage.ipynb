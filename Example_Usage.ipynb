{
 "cells": [
  {
   "cell_type": "markdown",
   "id": "fa3c05a4-4c5b-4536-8232-0101e2583270",
   "metadata": {},
   "source": [
    "<a href=\"https://colab.research.google.com/github/ZhengyiC/Driver_Assignment_Unity2025/blob/main/Example_Usage.ipynb\" target=\"_parent\"><img src=\"https://colab.research.google.com/assets/colab-badge.svg\" alt=\"Open In Colab\"/></a>"
   ]
  },
  {
   "cell_type": "markdown",
   "id": "69df228c-0989-4902-aa76-984cbfc502e9",
   "metadata": {},
   "source": [
    "# Example usage of the assign driver script"
   ]
  },
  {
   "cell_type": "code",
   "execution_count": null,
   "id": "4313d31f-7738-48aa-a791-5333f3cdcfee",
   "metadata": {},
   "outputs": [],
   "source": [
    "! git clone https://github.com/ZhengyiC/Driver_Assignment_Unity2025.git"
   ]
  },
  {
   "cell_type": "code",
   "execution_count": null,
   "id": "b0251666-0e5e-47ca-a8b9-91b0fb3307f7",
   "metadata": {},
   "outputs": [],
   "source": [
    "! pip install -q condacolab\n",
    "import condacolab\n",
    "condacolab.install()"
   ]
  },
  {
   "cell_type": "code",
   "execution_count": 2,
   "id": "46c677a2-203a-43d6-a7e8-8b8fdc5b8b0d",
   "metadata": {},
   "outputs": [],
   "source": [
    "!conda env update -n base -f ./Driver_Assignment_Unity2025/driver_assign_env.yml"
   ]
  },
  {
   "cell_type": "code",
   "execution_count": null,
   "id": "6245da2b-6325-4db8-8383-1a5c41c30974",
   "metadata": {},
   "outputs": [],
   "source": [
    "# ! pip install pandas==2.0.3\n",
    "# ! pip install pulp==2.8.0\n",
    "# ! pip install numpy==1.24.4\n",
    "# ! pip install openpyxl==3.1.5"
   ]
  },
  {
   "cell_type": "code",
   "execution_count": null,
   "id": "f7b25aa2-e054-47dc-a47f-0f1a1c610137",
   "metadata": {},
   "outputs": [],
   "source": []
  },
  {
   "cell_type": "code",
   "execution_count": null,
   "id": "de29d5cb-cfbd-4bd7-b254-76f689649782",
   "metadata": {},
   "outputs": [],
   "source": [
    "! python3 assign_driver.py"
   ]
  }
 ],
 "metadata": {
  "kernelspec": {
   "display_name": "Python 3 (ipykernel)",
   "language": "python",
   "name": "python3"
  },
  "language_info": {
   "codemirror_mode": {
    "name": "ipython",
    "version": 3
   },
   "file_extension": ".py",
   "mimetype": "text/x-python",
   "name": "python",
   "nbconvert_exporter": "python",
   "pygments_lexer": "ipython3",
   "version": "3.9.19"
  }
 },
 "nbformat": 4,
 "nbformat_minor": 5
}
