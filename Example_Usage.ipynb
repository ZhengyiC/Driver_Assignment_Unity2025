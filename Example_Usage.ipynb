{
 "cells": [
  {
   "cell_type": "markdown",
   "id": "69df228c-0989-4902-aa76-984cbfc502e9",
   "metadata": {},
   "source": [
    "# Example usage of the assign driver script"
   ]
  },
  {
   "cell_type": "code",
   "execution_count": 2,
   "id": "46c677a2-203a-43d6-a7e8-8b8fdc5b8b0d",
   "metadata": {},
   "outputs": [],
   "source": [
    "#!conda env update -n base -f ./driver_assign_env.yml"
   ]
  },
  {
   "cell_type": "code",
   "execution_count": null,
   "id": "de29d5cb-cfbd-4bd7-b254-76f689649782",
   "metadata": {},
   "outputs": [],
   "source": []
  }
 ],
 "metadata": {
  "kernelspec": {
   "display_name": "Python 3 (ipykernel)",
   "language": "python",
   "name": "python3"
  },
  "language_info": {
   "codemirror_mode": {
    "name": "ipython",
    "version": 3
   },
   "file_extension": ".py",
   "mimetype": "text/x-python",
   "name": "python",
   "nbconvert_exporter": "python",
   "pygments_lexer": "ipython3",
   "version": "3.9.19"
  }
 },
 "nbformat": 4,
 "nbformat_minor": 5
}
